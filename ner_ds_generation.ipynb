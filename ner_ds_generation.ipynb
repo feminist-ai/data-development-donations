{
  "nbformat": 4,
  "nbformat_minor": 0,
  "metadata": {
    "colab": {
      "provenance": []
    },
    "kernelspec": {
      "name": "python3",
      "display_name": "Python 3"
    },
    "language_info": {
      "name": "python"
    }
  },
  "cells": [
    {
      "cell_type": "markdown",
      "source": [
        "# Generating a Dataset for NER Task using LLMs\n",
        "\n",
        "\n",
        "In this project, we’re building a small dataset for a **Named Entity Recognition (NER)** task set in a fantasy-themed world.\n",
        "\n",
        "We'll follow these steps:\n",
        "\n",
        "1. Define entity types (e.g., People, Locations, Creatures, Artifacts).\n",
        "2. Create a list of example entities for each type.\n",
        "3. Write base sentences using placeholders like [PER], [LOC], etc.\n",
        "4. Randomly replace those placeholders with actual entity names from the lists.\n",
        "5. Format the final output in Prodigy or CoNLL 2003 format to train or test NER models.\n",
        "\n",
        "\n",
        "\n",
        "⚠️ Disclaimer: Names from Harry Potter and The Lord of the Rings are used solely for educational, non-commercial purposes in an open-source NLP demo. All rights belong to their respective owners."
      ],
      "metadata": {
        "id": "hJNqL3A4_D6Z"
      }
    },
    {
      "cell_type": "markdown",
      "source": [
        "🧙‍♂️ Prompt 1: For People, Locations, Creatures, Artifacts\n",
        "“Give me 10 fantasy-style names for each of the following categories: characters (like wizards or elves), magical locations (castles, forests, cities), mythical creatures (beasts, spirits), and powerful artifacts (wands, swords, relics). The names should sound original and fit in a magical world like Harry Potter or Lord of the Rings.”\n",
        "\n",
        "Reducing **Bias** by using phrases like:\n",
        "- each inspired by a different region or mythology\n",
        "- an equal mix of masculine, feminine, and gender-neutral names\n",
        "- wide range of linguistic roots\n",
        "- not based in medieval Europe\n"
      ],
      "metadata": {
        "id": "w7i596KNCywZ"
      }
    },
    {
      "cell_type": "code",
      "execution_count": 6,
      "metadata": {
        "id": "CUlxnfrXxSOH"
      },
      "outputs": [],
      "source": [
        "import random\n",
        "import re\n",
        "\n",
        "# Sample entity lists\n",
        "people = [\n",
        "    \"Harry Potter\", \"Hermione Granger\", \"Ron Weasley\", \"Albus Dumbledore\", \"Severus Snape\",\n",
        "    \"Frodo Baggins\", \"Gandalf\", \"Aragorn\", \"Legolas\", \"Galadriel\"\n",
        "    ]\n",
        "locations = [\n",
        "    \"Hogwarts\", \"Hogsmeade\", \"The Burrow\", \"Ministry of Magic\", \"Diagon Alley\",\n",
        "    \"Rivendell\", \"Shire\", \"Mordor\", \"Gondor\", \"Isengard\"\n",
        "]\n",
        "creatures = [\n",
        "    \"Hippogriff\", \"Basilisk\", \"Dementor\", \"Thestral\", \"Acromantula\",\n",
        "    \"Balrog\", \"Nazgûl\", \"Warg\", \"Orc\", \"Shelob\"\n",
        "]\n",
        "artifacts = [\n",
        "    \"Elder Wand\", \"Invisibility Cloak\", \"Resurrection Stone\", \"Sword of Gryffindor\", \"Time-Turner\",\n",
        "    \"One Ring\", \"Palantír\", \"Phial of Galadriel\", \"Andúril\", \"Sting\"\n",
        "]"
      ]
    },
    {
      "cell_type": "markdown",
      "source": [
        "🧙‍♂️ Prompt 2: \"Create 10 original fantasy-themed sentences that include placeholders for named entities. Use [PER] for people, [LOC] for locations, [CRE] for creatures, and [ART] for magical artifacts. Each sentence should feel like it belongs in a fantasy novel or adventure log. The placeholders should be naturally embedded into the sentence context. Avoid using real-world names or locations.\"\n",
        "\n",
        "Example Output (in-context few-shot learning):\n",
        "- [PER] uncovered the [ART] deep beneath the ruins of [LOC].\n",
        "- Only the [CRE] of [LOC] could sense the power hidden within the [ART]."
      ],
      "metadata": {
        "id": "veTXLBlEEOqp"
      }
    },
    {
      "cell_type": "code",
      "source": [
        "# Base sentences with placeholders\n",
        "base_sentences = [\n",
        "    \"[PER] stood at the gates of [LOC], clutching the [ART] with trembling hands.\",\n",
        "    \"Legends say the [CRE] once ravaged [LOC] until [PER] rose to stop it.\",\n",
        "    \"Deep in the vaults beneath [LOC], the [ART] lies guarded by a sleeping [CRE].\",\n",
        "    \"When [PER] disappeared, only the [ART] remained, humming with cursed energy.\",\n",
        "    \"[PER] summoned the [CRE] using the forbidden rites hidden within the [ART].\",\n",
        "    \"The path to [LOC] is perilous, especially with the [CRE] lurking in the shadows.\",\n",
        "    \"No one has entered [LOC] since [PER] unleashed the power of the [ART].\",\n",
        "    \"It was foretold that [PER] would ride the [CRE] across the skies of [LOC].\",\n",
        "    \"[ART] was never meant to be wielded by mortals—yet [PER] defied fate in [LOC].\",\n",
        "    \"A single drop of blood on the [ART] awakened the wrath of the [CRE] near [LOC].\"\n",
        "]\n"
      ],
      "metadata": {
        "id": "ko_zVx5M-C9k"
      },
      "execution_count": 7,
      "outputs": []
    },
    {
      "cell_type": "code",
      "source": [
        "# Mapping placeholder to entity type and list\n",
        "entity_map = {\n",
        "    \"PER\": (\"PER\", people),\n",
        "    \"LOC\": (\"LOC\", locations),\n",
        "    \"CRE\": (\"CRE\", creatures),\n",
        "    \"ART\": (\"ART\", artifacts),\n",
        "}"
      ],
      "metadata": {
        "id": "bN3UiUxY-D4R"
      },
      "execution_count": 8,
      "outputs": []
    },
    {
      "cell_type": "code",
      "source": [
        "def replace_entities(sentence_template, entity_map):\n",
        "    \"\"\"Replace placeholders with actual entities.\"\"\"\n",
        "    sentence = sentence_template\n",
        "    for placeholder, (_, entity_list) in entity_map.items():\n",
        "        while f\"[{placeholder}]\" in sentence:\n",
        "            entity = random.choice(entity_list)\n",
        "            sentence = sentence.replace(f\"[{placeholder}]\", entity, 1)\n",
        "    return sentence\n",
        "\n",
        "def find_entity_spans(sentence, entity_map):\n",
        "    \"\"\"Find character spans of entities in the sentence.\"\"\"\n",
        "    spans = []\n",
        "    for label, entity_list in [(label, entity_map[label][1]) for label in entity_map]:\n",
        "        for entity in entity_list:\n",
        "            for match in re.finditer(re.escape(entity), sentence):\n",
        "                spans.append((match.start(), match.end(), label))\n",
        "    spans.sort()\n",
        "    return spans\n",
        "\n",
        "def tokenize_and_tag(sentence, spans):\n",
        "    \"\"\"Tokenize and assign BIO tags.\"\"\"\n",
        "    tokens = []\n",
        "    pos = 0\n",
        "    for word in re.findall(r\"\\w+|[^\\w\\s]\", sentence):\n",
        "        start = sentence.find(word, pos)\n",
        "        end = start + len(word)\n",
        "        pos = end\n",
        "        tag = \"O\"\n",
        "        for span_start, span_end, label in spans:\n",
        "            if span_start <= start < span_end:\n",
        "                tag = f\"B-{label}\" if start == span_start else f\"I-{label}\"\n",
        "                break\n",
        "        tokens.append((word, tag))\n",
        "    return tokens\n",
        "\n",
        "def generate_conll_data(base_sentences, entity_map, num_samples=5):\n",
        "    \"\"\"Create a list of samples in CoNLL format.\"\"\"\n",
        "    dataset = []\n",
        "    for _ in range(num_samples):\n",
        "        template = random.choice(base_sentences)\n",
        "        sentence = replace_entities(template, entity_map)\n",
        "        spans = find_entity_spans(sentence, entity_map)\n",
        "        tagged_tokens = tokenize_and_tag(sentence, spans)\n",
        "        dataset.append((sentence, tagged_tokens))\n",
        "    return dataset\n",
        "\n",
        "def print_conll_format(dataset):\n",
        "    \"\"\"Print the data in CoNLL 2003 format.\"\"\"\n",
        "    for sentence, tokens in dataset:\n",
        "        print(f\"# Sentence: {sentence}\")\n",
        "        for token, tag in tokens:\n",
        "            print(f\"{token} {tag}\")\n",
        "        print()"
      ],
      "metadata": {
        "id": "cfQoXEkc-EF7"
      },
      "execution_count": 13,
      "outputs": []
    },
    {
      "cell_type": "code",
      "source": [
        "dataset = generate_conll_data(base_sentences, entity_map, num_samples=3)\n",
        "print_conll_format(dataset)"
      ],
      "metadata": {
        "colab": {
          "base_uri": "https://localhost:8080/"
        },
        "id": "B13hJmKjGcHq",
        "outputId": "4117f97b-9cda-4090-a0e5-994f339c45f0"
      },
      "execution_count": 15,
      "outputs": [
        {
          "output_type": "stream",
          "name": "stdout",
          "text": [
            "# Sentence: Galadriel summoned the Warg using the forbidden rites hidden within the Andúril.\n",
            "Galadriel B-PER\n",
            "summoned O\n",
            "the O\n",
            "Warg B-CRE\n",
            "using O\n",
            "the O\n",
            "forbidden O\n",
            "rites O\n",
            "hidden O\n",
            "within O\n",
            "the O\n",
            "Andúril B-ART\n",
            ". O\n",
            "\n",
            "# Sentence: It was foretold that Gandalf would ride the Shelob across the skies of Gondor.\n",
            "It O\n",
            "was O\n",
            "foretold O\n",
            "that O\n",
            "Gandalf B-PER\n",
            "would O\n",
            "ride O\n",
            "the O\n",
            "Shelob B-CRE\n",
            "across O\n",
            "the O\n",
            "skies O\n",
            "of O\n",
            "Gondor B-LOC\n",
            ". O\n",
            "\n",
            "# Sentence: Galadriel summoned the Thestral using the forbidden rites hidden within the Sword of Gryffindor.\n",
            "Galadriel B-PER\n",
            "summoned O\n",
            "the O\n",
            "Thestral B-CRE\n",
            "using O\n",
            "the O\n",
            "forbidden O\n",
            "rites O\n",
            "hidden O\n",
            "within O\n",
            "the O\n",
            "Sword B-ART\n",
            "of I-ART\n",
            "Gryffindor I-ART\n",
            ". O\n",
            "\n"
          ]
        }
      ]
    },
    {
      "cell_type": "code",
      "source": [
        "def generate_prodigy_data(base_sentences, entity_map, n_examples=10):\n",
        "    data = []\n",
        "\n",
        "    for _ in range(n_examples):\n",
        "        sentence_template = random.choice(base_sentences)\n",
        "        filled_sentence = sentence_template\n",
        "        replacements = {}\n",
        "\n",
        "        # Replace placeholders with random values and track them\n",
        "        for placeholder, (label, entity_list) in entity_map.items():\n",
        "            while f\"[{placeholder}]\" in filled_sentence:\n",
        "                replacement = random.choice(entity_list)\n",
        "                filled_sentence = filled_sentence.replace(f\"[{placeholder}]\", replacement, 1)\n",
        "\n",
        "                # Track start and end positions\n",
        "                start_idx = filled_sentence.find(replacement)\n",
        "                end_idx = start_idx + len(replacement)\n",
        "                # If duplicate entity appears, make sure span is correct\n",
        "                while any(start_idx == span[0] for span in replacements.get(label, [])):\n",
        "                    start_idx = filled_sentence.find(replacement, end_idx)\n",
        "                    end_idx = start_idx + len(replacement)\n",
        "\n",
        "                replacements.setdefault(label, []).append((start_idx, end_idx))\n",
        "\n",
        "        # Build Prodigy JSON format\n",
        "        spans = []\n",
        "        for label, spans_list in replacements.items():\n",
        "            for start, end in spans_list:\n",
        "                spans.append({\n",
        "                    \"start\": start,\n",
        "                    \"end\": end,\n",
        "                    \"label\": label\n",
        "                })\n",
        "\n",
        "        data.append({\n",
        "            \"text\": filled_sentence,\n",
        "            \"spans\": spans\n",
        "        })\n",
        "\n",
        "    return data\n"
      ],
      "metadata": {
        "id": "_xuY5UBT2Xpc"
      },
      "execution_count": 16,
      "outputs": []
    },
    {
      "cell_type": "code",
      "source": [
        "examples = generate_prodigy_data(base_sentences, entity_map, n_examples=10)\n",
        "\n",
        "for ex in examples:\n",
        "    print(ex)"
      ],
      "metadata": {
        "colab": {
          "base_uri": "https://localhost:8080/"
        },
        "id": "Krjadeq2FjN9",
        "outputId": "2d4b93b2-77d1-45bf-bf70-9db05730cd95"
      },
      "execution_count": 17,
      "outputs": [
        {
          "output_type": "stream",
          "name": "stdout",
          "text": [
            "{'text': 'A single drop of blood on the Resurrection Stone awakened the wrath of the Warg near Rivendell.', 'spans': [{'start': 73, 'end': 82, 'label': 'LOC'}, {'start': 62, 'end': 66, 'label': 'CRE'}, {'start': 30, 'end': 48, 'label': 'ART'}]}\n",
            "{'text': 'A single drop of blood on the Sting awakened the wrath of the Thestral near Isengard.', 'spans': [{'start': 73, 'end': 81, 'label': 'LOC'}, {'start': 62, 'end': 70, 'label': 'CRE'}, {'start': 30, 'end': 35, 'label': 'ART'}]}\n",
            "{'text': 'A single drop of blood on the Sting awakened the wrath of the Acromantula near Shire.', 'spans': [{'start': 73, 'end': 78, 'label': 'LOC'}, {'start': 62, 'end': 73, 'label': 'CRE'}, {'start': 30, 'end': 35, 'label': 'ART'}]}\n",
            "{'text': 'Invisibility Cloak was never meant to be wielded by mortals—yet Albus Dumbledore defied fate in Diagon Alley.', 'spans': [{'start': 51, 'end': 67, 'label': 'PER'}, {'start': 83, 'end': 95, 'label': 'LOC'}, {'start': 0, 'end': 18, 'label': 'ART'}]}\n",
            "{'text': 'Hermione Granger summoned the Basilisk using the forbidden rites hidden within the One Ring.', 'spans': [{'start': 0, 'end': 16, 'label': 'PER'}, {'start': 30, 'end': 38, 'label': 'CRE'}, {'start': 83, 'end': 91, 'label': 'ART'}]}\n",
            "{'text': 'Deep in the vaults beneath Isengard, the Sword of Gryffindor lies guarded by a sleeping Warg.', 'spans': [{'start': 27, 'end': 35, 'label': 'LOC'}, {'start': 74, 'end': 78, 'label': 'CRE'}, {'start': 41, 'end': 60, 'label': 'ART'}]}\n",
            "{'text': 'Phial of Galadriel was never meant to be wielded by mortals—yet Hermione Granger defied fate in Isengard.', 'spans': [{'start': 51, 'end': 67, 'label': 'PER'}, {'start': 83, 'end': 91, 'label': 'LOC'}, {'start': 0, 'end': 18, 'label': 'ART'}]}\n",
            "{'text': 'Harry Potter stood at the gates of Isengard, clutching the Sting with trembling hands.', 'spans': [{'start': 0, 'end': 12, 'label': 'PER'}, {'start': 35, 'end': 43, 'label': 'LOC'}, {'start': 59, 'end': 64, 'label': 'ART'}]}\n",
            "{'text': 'When Legolas disappeared, only the Invisibility Cloak remained, humming with cursed energy.', 'spans': [{'start': 5, 'end': 12, 'label': 'PER'}, {'start': 35, 'end': 53, 'label': 'ART'}]}\n",
            "{'text': 'Legends say the Thestral once ravaged The Burrow until Aragorn rose to stop it.', 'spans': [{'start': 47, 'end': 54, 'label': 'PER'}, {'start': 35, 'end': 45, 'label': 'LOC'}, {'start': 16, 'end': 24, 'label': 'CRE'}]}\n"
          ]
        }
      ]
    },
    {
      "cell_type": "code",
      "source": [],
      "metadata": {
        "id": "IxPZLDiIFn7g"
      },
      "execution_count": null,
      "outputs": []
    }
  ]
}
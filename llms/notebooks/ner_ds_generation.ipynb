{
  "nbformat": 4,
  "nbformat_minor": 0,
  "metadata": {
    "colab": {
      "provenance": []
    },
    "kernelspec": {
      "name": "python3",
      "display_name": "Python 3"
    },
    "language_info": {
      "name": "python"
    }
  },
  "cells": [
    {
      "cell_type": "markdown",
      "source": [
        "# Generating a Dataset for NER Task using LLMs\n",
        "\n",
        "\n",
        "In this project, we’re building a small dataset for a **Named Entity Recognition (NER)** task set in a fantasy-themed world.\n",
        "\n",
        "We'll follow these steps:\n",
        "\n",
        "1. Define entity types (e.g., People, Locations, Creatures, Artifacts).\n",
        "2. Create a list of example entities for each type.\n",
        "3. Write base sentences using placeholders like [PER], [LOC], etc.\n",
        "4. Randomly replace those placeholders with actual entity names from the lists.\n",
        "5. Format the final output in Prodigy or CoNLL 2003 format to train or test NER models.\n",
        "\n",
        "\n",
        "\n",
        "⚠️ Disclaimer: Names from Harry Potter and The Lord of the Rings are used solely for educational, non-commercial purposes in an open-source NLP demo. All rights belong to their respective owners."
      ],
      "metadata": {
        "id": "hJNqL3A4_D6Z"
      }
    },
    {
      "cell_type": "markdown",
      "source": [
        "🧙‍♂️ Prompt 1: For People, Locations, Creatures, Artifacts\n",
        "“Give me 10 fantasy-style names for each of the following categories: characters (like wizards or elves), magical locations (castles, forests, cities), mythical creatures (beasts, spirits), and powerful artifacts (wands, swords, relics). The names should sound original and fit in a magical world like Harry Potter or Lord of the Rings.”\n",
        "\n",
        "Reducing **Bias** by using phrases like:\n",
        "- each inspired by a different region or mythology\n",
        "- an equal mix of masculine, feminine, and gender-neutral names\n",
        "- wide range of linguistic roots\n",
        "- not based in medieval Europe\n"
      ],
      "metadata": {
        "id": "w7i596KNCywZ"
      }
    },
    {
      "cell_type": "code",
      "execution_count": 1,
      "metadata": {
        "id": "CUlxnfrXxSOH"
      },
      "outputs": [],
      "source": [
        "import random\n",
        "import re\n",
        "\n",
        "# Sample entity lists\n",
        "PER = [\n",
        "    \"Jordan Peterson\", \"Andrew Tate\", \"Emma Watson\", \"Chimamanda Ngozi Adichie\",\n",
        "    \"Ben Shapiro\", \"Anita Sarkeesian\", \"Candace Owens\", \"Gloria Steinem\",\n",
        "    \"Brett Kavanaugh\", \"Ayaan Hirsi Ali\", \"Valerie Solanas\", \"Christina Hoff Sommers\",\n",
        "    \"Rebecca Solnit\", \"Milo Yiannopoulos\", \"Roxane Gay\",\n",
        "    \"Malala Yousafzai\", \"Tarana Burke\", \"Noor Tagouri\", \"Margaret Atwood\",\n",
        "    \"Leymah Gbowee\", \"Justin Baldoni\", \"Adichie Obioma\", \"Amna Nawaz\",\n",
        "    \"Trevor Noah\", \"Zainab Salbi\", \"Ngozi Okonjo-Iweala\", \"Hasan Minhaj\",\n",
        "    \"Yara Shahidi\", \"Bell Hooks\", \"Laverne Cox\"\n",
        "]\n",
        "\n",
        "ORG = [\n",
        "    \"UN Women\", \"National Organization for Women\", \"A Voice for Men\", \"The Red Pill subreddit\",\n",
        "    \"Women's March\", \"HeForShe\", \"The Daily Wire\", \"Planned Parenthood\",\n",
        "    \"Men's Rights Movement\", \"Feminist Majority Foundation\", \"Breitbart\", \"Jezebel\",\n",
        "    \"International Women's Health Coalition\", \"PragerU\", \"Girl Up\",\n",
        "    \"Ms. Foundation for Women\", \"Men's Health Network\", \"Equal Rights Advocates\",\n",
        "    \"Gender Equality Council\", \"Women Deliver\", \"FAIR For All\",\n",
        "    \"Men Are Human\", \"Feminist Frequency\", \"The Good Men Project\",\n",
        "    \"Raising Voices\", \"Women's Media Center\", \"Male Survivor\",\n",
        "    \"Institute for Gender Equality\", \"She Should Run\", \"Center for Masculinities and Social Justice\"\n",
        "]\n",
        "\n",
        "EMOTION = [\n",
        "    \"anger\", \"resentment\", \"frustration\", \"hate\", \"outrage\", \"empowerment\", \"pride\",\n",
        "    \"anxiety\", \"shame\", \"fear\", \"bitterness\", \"vulnerability\", \"sadness\", \"rage\", \"hope\",\n",
        "    \"confusion\", \"guilt\", \"loneliness\", \"disgust\", \"envy\", \"helplessness\",\n",
        "    \"relief\", \"despair\", \"determination\", \"joy\", \"numbness\"\n",
        "]\n",
        "\n",
        "GENDER_ROLE = [\n",
        "    \"housewife\", \"breadwinner\", \"strong man\", \"submissive woman\", \"provider\", \"caregiver\",\n",
        "    \"alpha male\", \"boss babe\", \"traditional wife\", \"stay-at-home mom\", \"working dad\",\n",
        "    \"protector\", \"nurturer\", \"career woman\", \"homemaker\",\n",
        "    \"gentleman\", \"modern dad\", \"feminine man\", \"emotionally available partner\",\n",
        "    \"independent woman\", \"domineering husband\", \"stay-at-home dad\",\n",
        "    \"assertive woman\", \"passive man\", \"masculine woman\"\n",
        "]\n",
        "\n",
        "RELATIONSHIP = [\n",
        "    \"wife\", \"husband\", \"girlfriend\", \"boyfriend\", \"single mom\", \"single dad\", \"ex-wife\",\n",
        "    \"baby mama\", \"fiancé\", \"partner\", \"spouse\", \"co-parent\", \"ex-husband\", \"divorcee\", \"fling\",\n",
        "    \"stepfather\", \"stepmother\", \"roommate\", \"child’s father\", \"child’s mother\",\n",
        "    \"dating partner\", \"former lover\", \"sugar daddy\", \"sugar baby\", \"romantic interest\"\n",
        "]\n",
        "\n",
        "INSULT_TERMS = [\n",
        "    \"feminazi\", \"simp\", \"Karen\", \"incel\", \"cuck\", \"pick-me\", \"misandrist\", \"gold digger\",\n",
        "    \"blue-pilled\", \"white knight\", \"man-hater\", \"soy boy\", \"radical feminist\", \"male tears\",\n",
        "    \"toxic feminist\",\n",
        "    \"deadbeat dad\", \"emotionless brute\", \"chauvinist\", \"neckbeard\", \"manchild\",\n",
        "    \"macho creep\", \"womanizer\", \"broflake\", \"alpha poser\", \"nice guy\",\n",
        "    \"entitled male\", \"fragile ego\", \"wannabe alpha\", \"mansplainer\", \"gaslighter\"\n",
        "]\n"
      ]
    },
    {
      "cell_type": "markdown",
      "source": [
        "🧙‍♂️ Prompt 2: \"Create 10 original fantasy-themed sentences that include placeholders for named entities. Use [PER] for people, [LOC] for locations, [CRE] for creatures, and [ART] for magical artifacts. Each sentence should feel like it belongs in a fantasy novel or adventure log. The placeholders should be naturally embedded into the sentence context. Avoid using real-world names or locations.\"\n",
        "\n",
        "Example Output (in-context few-shot learning):\n",
        "- [PER] uncovered the [ART] deep beneath the ruins of [LOC].\n",
        "- Only the [CRE] of [LOC] could sense the power hidden within the [ART]."
      ],
      "metadata": {
        "id": "veTXLBlEEOqp"
      }
    },
    {
      "cell_type": "code",
      "source": [
        "# Base sentences with placeholders\n",
        "base_sentences = [\n",
        "    \"[PER] accused the [ORG] of promoting [GENDER_ROLE] stereotypes.\",\n",
        "    \"With a mix of [EMOTION], [PER] confronted their [RELATIONSHIP] about the comment.\",\n",
        "    \"Many people labeled [PER] a [INSULT_TERMS] after the interview.\",\n",
        "    \"The [ORG] defended [PER], saying the [INSULT_TERMS] accusations were baseless.\",\n",
        "    \"[PER] shared a story that evoked strong [EMOTION] from both sides of the debate.\",\n",
        "    \"Critics called the new policy by [ORG] a win for outdated [GENDER_ROLE] norms.\",\n",
        "    \"As a proud [RELATIONSHIP], [PER] advocated against harmful [GENDER_ROLE] roles.\",\n",
        "    \"[INSULT_TERMS] was trending on social media after [PER]'s statement.\",\n",
        "    \"[PER] said their experiences as a [GENDER_ROLE] shaped their views on equality.\",\n",
        "    \"The [ORG]'s campaign was described as full of [EMOTION] and lacking in facts.\",\n",
        "    \"[PER] responded to the [INSULT_TERMS] slur by sharing their personal [EMOTION].\",\n",
        "    \"[RELATIONSHIP] roles are often misunderstood, said [PER] in a speech to [ORG].\",\n",
        "    \"Accusations of being a [INSULT_TERMS] didn’t stop [PER] from speaking at [ORG].\",\n",
        "    \"The debate between [PER] and [PER] highlighted deep divides over [GENDER_ROLE].\",\n",
        "    \"[PER] expressed [EMOTION] when questioned about their stance on [RELATIONSHIP] roles.\"\n",
        "]\n",
        "\n"
      ],
      "metadata": {
        "id": "ko_zVx5M-C9k"
      },
      "execution_count": 2,
      "outputs": []
    },
    {
      "cell_type": "code",
      "source": [
        "# Mapping placeholder to entity type and list\n",
        "entity_map = {\n",
        "    \"PER\": (\"PER\", PER),\n",
        "    \"ORG\": (\"ORG\", ORG),\n",
        "    \"EMOTION\": (\"EMOTION\", EMOTION),\n",
        "    \"GENDER_ROLE\": (\"GENDER_ROLE\", GENDER_ROLE),\n",
        "    \"RELATIONSHIP\": (\"RELATIONSHIP\", RELATIONSHIP),\n",
        "    \"INSULT_TERMS\": (\"INSULT_TERMS\", INSULT_TERMS)\n",
        "}\n"
      ],
      "metadata": {
        "id": "bN3UiUxY-D4R"
      },
      "execution_count": 3,
      "outputs": []
    },
    {
      "cell_type": "code",
      "source": [
        "def replace_entities(sentence_template, entity_map):\n",
        "    \"\"\"Replace placeholders with actual entities.\"\"\"\n",
        "    sentence = sentence_template\n",
        "    for placeholder, (_, entity_list) in entity_map.items():\n",
        "        while f\"[{placeholder}]\" in sentence:\n",
        "            entity = random.choice(entity_list)\n",
        "            sentence = sentence.replace(f\"[{placeholder}]\", entity, 1)\n",
        "    return sentence\n",
        "\n",
        "def find_entity_spans(sentence, entity_map):\n",
        "    \"\"\"Find character spans of entities in the sentence.\"\"\"\n",
        "    spans = []\n",
        "    for label, entity_list in [(label, entity_map[label][1]) for label in entity_map]:\n",
        "        for entity in entity_list:\n",
        "            for match in re.finditer(re.escape(entity), sentence):\n",
        "                spans.append((match.start(), match.end(), label))\n",
        "    spans.sort()\n",
        "    return spans\n",
        "\n",
        "def tokenize_and_tag(sentence, spans):\n",
        "    \"\"\"Tokenize and assign BIO tags.\"\"\"\n",
        "    tokens = []\n",
        "    pos = 0\n",
        "    for word in re.findall(r\"\\w+|[^\\w\\s]\", sentence):\n",
        "        start = sentence.find(word, pos)\n",
        "        end = start + len(word)\n",
        "        pos = end\n",
        "        tag = \"O\"\n",
        "        for span_start, span_end, label in spans:\n",
        "            if span_start <= start < span_end:\n",
        "                tag = f\"B-{label}\" if start == span_start else f\"I-{label}\"\n",
        "                break\n",
        "        tokens.append((word, tag))\n",
        "    return tokens\n",
        "\n",
        "def generate_conll_data(base_sentences, entity_map, num_samples=5):\n",
        "    \"\"\"Create a list of samples in CoNLL format.\"\"\"\n",
        "    dataset = []\n",
        "    for _ in range(num_samples):\n",
        "        template = random.choice(base_sentences)\n",
        "        sentence = replace_entities(template, entity_map)\n",
        "        spans = find_entity_spans(sentence, entity_map)\n",
        "        tagged_tokens = tokenize_and_tag(sentence, spans)\n",
        "        dataset.append((sentence, tagged_tokens))\n",
        "    return dataset\n",
        "\n",
        "def print_conll_format(dataset):\n",
        "    \"\"\"Print the data in CoNLL 2003 format.\"\"\"\n",
        "    for sentence, tokens in dataset:\n",
        "        print(f\"# Sentence: {sentence}\")\n",
        "        for token, tag in tokens:\n",
        "            print(f\"{token} {tag}\")\n",
        "        print()"
      ],
      "metadata": {
        "id": "cfQoXEkc-EF7"
      },
      "execution_count": 4,
      "outputs": []
    },
    {
      "cell_type": "code",
      "source": [
        "dataset = generate_conll_data(base_sentences, entity_map, num_samples=1)\n",
        "print_conll_format(dataset)"
      ],
      "metadata": {
        "colab": {
          "base_uri": "https://localhost:8080/"
        },
        "id": "B13hJmKjGcHq",
        "outputId": "b1b5133e-deb6-4994-8cf1-1c92f3ef810a"
      },
      "execution_count": 12,
      "outputs": [
        {
          "output_type": "stream",
          "name": "stdout",
          "text": [
            "# Sentence: Critics called the new policy by FAIR For All a win for outdated nurturer norms.\n",
            "Critics O\n",
            "called O\n",
            "the O\n",
            "new O\n",
            "policy O\n",
            "by O\n",
            "FAIR B-ORG\n",
            "For I-ORG\n",
            "All I-ORG\n",
            "a O\n",
            "win O\n",
            "for O\n",
            "outdated O\n",
            "nurturer B-GENDER_ROLE\n",
            "norms O\n",
            ". O\n",
            "\n"
          ]
        }
      ]
    },
    {
      "cell_type": "code",
      "source": [
        "import random\n",
        "import spacy\n",
        "import json\n",
        "\n",
        "nlp = spacy.blank(\"en\")\n",
        "\n",
        "def generate_prodigy_data(base_sentences, entity_map, n_examples=20):\n",
        "    examples = []\n",
        "\n",
        "    for _ in range(n_examples):\n",
        "        template = random.choice(base_sentences)\n",
        "        used_entities = []\n",
        "\n",
        "        # Replace placeholders with random entity examples\n",
        "        filled_sentence = template\n",
        "        for label in entity_map:\n",
        "            tag = f\"[{label}]\"\n",
        "            while tag in filled_sentence:\n",
        "                entity = random.choice(entity_map[label][1])\n",
        "                filled_sentence = filled_sentence.replace(tag, entity, 1)\n",
        "                used_entities.append((entity, label))\n",
        "\n",
        "        # Tokenize with spaCy\n",
        "        doc = nlp(filled_sentence)\n",
        "        tokens = [{\"text\": token.text, \"start\": token.idx, \"end\": token.idx + len(token), \"id\": i} for i, token in enumerate(doc)]\n",
        "\n",
        "        # Build spans using matched character offsets\n",
        "        spans = []\n",
        "        for ent_text, label in used_entities:\n",
        "            start = filled_sentence.find(ent_text)\n",
        "            if start == -1:\n",
        "                continue\n",
        "            end = start + len(ent_text)\n",
        "            # Find token indices that match the entity span\n",
        "            token_start = token_end = None\n",
        "            for i, token in enumerate(doc):\n",
        "                if token.idx == start:\n",
        "                    token_start = i\n",
        "                if token.idx + len(token) == end:\n",
        "                    token_end = i\n",
        "            if token_start is not None and token_end is not None:\n",
        "                spans.append({\n",
        "                    \"start\": start,\n",
        "                    \"end\": end,\n",
        "                    \"token_start\": token_start,\n",
        "                    \"token_end\": token_end,\n",
        "                    \"label\": label\n",
        "                })\n",
        "\n",
        "        examples.append({\n",
        "            \"text\": filled_sentence,\n",
        "            \"tokens\": tokens,\n",
        "            \"spans\": spans\n",
        "        })\n",
        "\n",
        "    return examples\n"
      ],
      "metadata": {
        "id": "IxPZLDiIFn7g"
      },
      "execution_count": 10,
      "outputs": []
    },
    {
      "cell_type": "code",
      "source": [
        "examples = generate_prodigy_data(base_sentences, entity_map, n_examples=20)\n",
        "\n",
        "with open(\"feminism_data.jsonl\", \"w\", encoding=\"utf-8\") as f:\n",
        "    for ex in examples:\n",
        "        f.write(json.dumps(ex, ensure_ascii=False) + \"\\n\")\n",
        "\n",
        "for ex in examples:\n",
        "    print(ex)"
      ],
      "metadata": {
        "id": "vJ8G3XIgoVzr"
      },
      "execution_count": 11,
      "outputs": []
    },
    {
      "cell_type": "code",
      "source": [],
      "metadata": {
        "id": "Nm6EJouWobiZ"
      },
      "execution_count": null,
      "outputs": []
    }
  ]
}